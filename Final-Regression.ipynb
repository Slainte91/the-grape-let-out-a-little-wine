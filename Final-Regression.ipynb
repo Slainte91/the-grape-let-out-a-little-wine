{
 "cells": [
  {
   "cell_type": "code",
   "execution_count": 2,
   "metadata": {},
   "outputs": [],
   "source": [
    "%matplotlib inline\n",
    "import matplotlib.pyplot as plt\n",
    "import numpy as np\n",
    "import pandas as pd\n",
    "from sklearn.linear_model import LinearRegression\n",
    "import statsmodels.api as sm\n"
   ]
  },
  {
   "cell_type": "code",
   "execution_count": 3,
   "metadata": {},
   "outputs": [
    {
     "data": {
      "text/plain": [
       "<bound method NDFrame.head of       fixed acidity  volatile acidity  citric acid  residual sugar  chlorides  \\\n",
       "0               7.4             0.700         0.00             1.9      0.076   \n",
       "1               7.8             0.880         0.00             2.6      0.098   \n",
       "2               7.8             0.760         0.04             2.3      0.092   \n",
       "3              11.2             0.280         0.56             1.9      0.075   \n",
       "4               7.4             0.700         0.00             1.9      0.076   \n",
       "...             ...               ...          ...             ...        ...   \n",
       "1594            6.2             0.600         0.08             2.0      0.090   \n",
       "1595            5.9             0.550         0.10             2.2      0.062   \n",
       "1596            6.3             0.510         0.13             2.3      0.076   \n",
       "1597            5.9             0.645         0.12             2.0      0.075   \n",
       "1598            6.0             0.310         0.47             3.6      0.067   \n",
       "\n",
       "      free sulfur dioxide  total sulfur dioxide  density    pH  sulphates  \\\n",
       "0                    11.0                  34.0  0.99780  3.51       0.56   \n",
       "1                    25.0                  67.0  0.99680  3.20       0.68   \n",
       "2                    15.0                  54.0  0.99700  3.26       0.65   \n",
       "3                    17.0                  60.0  0.99800  3.16       0.58   \n",
       "4                    11.0                  34.0  0.99780  3.51       0.56   \n",
       "...                   ...                   ...      ...   ...        ...   \n",
       "1594                 32.0                  44.0  0.99490  3.45       0.58   \n",
       "1595                 39.0                  51.0  0.99512  3.52       0.76   \n",
       "1596                 29.0                  40.0  0.99574  3.42       0.75   \n",
       "1597                 32.0                  44.0  0.99547  3.57       0.71   \n",
       "1598                 18.0                  42.0  0.99549  3.39       0.66   \n",
       "\n",
       "      alcohol  quality  \n",
       "0         9.4        5  \n",
       "1         9.8        5  \n",
       "2         9.8        5  \n",
       "3         9.8        6  \n",
       "4         9.4        5  \n",
       "...       ...      ...  \n",
       "1594     10.5        5  \n",
       "1595     11.2        6  \n",
       "1596     11.0        6  \n",
       "1597     10.2        5  \n",
       "1598     11.0        6  \n",
       "\n",
       "[1599 rows x 12 columns]>"
      ]
     },
     "execution_count": 3,
     "metadata": {},
     "output_type": "execute_result"
    }
   ],
   "source": [
    "df = pd.read_csv('Data/winequality-red.csv')\n",
    "df.head"
   ]
  },
  {
   "cell_type": "code",
   "execution_count": 4,
   "metadata": {},
   "outputs": [],
   "source": [
    "X = df[[\"fixed acidity\", \"citric acid\", \"residual sugar\",\"chlorides\",\"free sulfur dioxide\",\"total sulfur dioxide\"\n",
    "       ,\"density\",\"pH\",\"sulphates\",\"alcohol\"]]\n",
    "Y = df[\"quality\"]\n",
    "\n",
    "df[\"c2\"]=df[\"citric acid\"]*df[\"citric acid\"]\n",
    "\n",
    "X2=df[[\"fixed acidity\", \"citric acid\", \"residual sugar\",\"chlorides\",\"free sulfur dioxide\",\"total sulfur dioxide\"\n",
    "       ,\"density\",\"pH\",\"sulphates\",\"alcohol\",\"c2\"]]\n",
    "\n",
    "df[\"pH2\"]=df[\"pH\"]*df[\"pH\"]\n",
    "\n",
    "X3=df[[\"fixed acidity\", \"citric acid\", \"residual sugar\",\"chlorides\",\"free sulfur dioxide\",\"total sulfur dioxide\"\n",
    "       ,\"density\",\"pH\",\"sulphates\",\"alcohol\",\"c2\",\"pH2\"]]\n",
    "\n",
    "df[\"sugar2\"]=df[\"residual sugar\"]*df[\"residual sugar\"]\n",
    "\n",
    "X4=df[[\"fixed acidity\", \"citric acid\", \"residual sugar\",\"chlorides\",\"free sulfur dioxide\",\"total sulfur dioxide\"\n",
    "       ,\"density\",\"pH\",\"sulphates\",\"alcohol\",\"c2\",\"pH2\",\"sugar2\"]]\n",
    "\n",
    "df[\"alcohol2\"]=df[\"alcohol\"]*df[\"alcohol\"]\n",
    "\n",
    "\n",
    "X5=df[[\"fixed acidity\", \"citric acid\", \"residual sugar\",\"chlorides\",\"free sulfur dioxide\",\"total sulfur dioxide\"\n",
    "       ,\"density\",\"pH\",\"sulphates\",\"alcohol\",\"c2\",\"pH2\",\"sugar2\",\"alcohol2\"]]\n",
    "\n",
    "df[\"alchohol*sugar\"]=df[\"alcohol\"]*df[\"residual sugar\"]\n",
    "\n",
    "X6=df[[\"fixed acidity\", \"citric acid\", \"residual sugar\",\"chlorides\",\"free sulfur dioxide\",\"total sulfur dioxide\"\n",
    "       ,\"density\",\"pH\",\"sulphates\",\"alcohol\",\"c2\",\"pH2\",\"sugar2\",\"alcohol2\",\"alchohol*sugar\"]]\n",
    "\n",
    "avg_qual=np.average(df['quality'])\n",
    "n=len((df['quality']))\n",
    "k1=11\n"
   ]
  },
  {
   "cell_type": "code",
   "execution_count": 5,
   "metadata": {},
   "outputs": [
    {
     "name": "stdout",
     "output_type": "stream",
     "text": [
      "R^2: 0.3362498551085401\n"
     ]
    }
   ],
   "source": [
    "model = LinearRegression()\n",
    "model.fit(X6,Y)\n",
    "R = model.score(X6, Y)\n",
    "print(f\"R^2: {R}\")\n",
    "adjR= 1 - ((1-R)*(n-1)/(n-14-1))\n",
    "\n"
   ]
  },
  {
   "cell_type": "code",
   "execution_count": null,
   "metadata": {},
   "outputs": [],
   "source": [
    "0.323636114358436  #X\n",
    "0.32432668419488897#2\n",
    "0.32845374704415664#3\n",
    "0.32855412802938766#4\n",
    "0.3281850742533493 #5 this lowers adj R2 so alchohol^2 does not improve predicability\n",
    "0.3362498551085401 #6"
   ]
  },
  {
   "cell_type": "code",
   "execution_count": 6,
   "metadata": {},
   "outputs": [
    {
     "data": {
      "text/plain": [
       "Text(0.5, 0, 'Quality')"
      ]
     },
     "execution_count": 6,
     "metadata": {},
     "output_type": "execute_result"
    },
    {
     "data": {
      "image/png": "[encoded data removed]",
      "text/plain": [
       "<Figure size 432x288 with 1 Axes>"
      ]
     },
     "metadata": {
      "needs_background": "light"
     },
     "output_type": "display_data"
    }
   ],
   "source": [
    "plt.scatter(Y, model.predict(X6) - Y, c=\"blue\", label=\"Training Data\")\n",
    "\n",
    "plt.hlines(y=0, xmin=Y.min(), xmax=Y.max())\n",
    "plt.title(\"Residual Plot\")\n",
    "plt.ylabel('Residuals')\n",
    "plt.xlabel('Quality')"
   ]
  },
  {
   "cell_type": "code",
   "execution_count": 67,
   "metadata": {},
   "outputs": [
    {
     "name": "stdout",
     "output_type": "stream",
     "text": [
      "Coefficients: \n",
      " [ 2.75353190e-02  6.20822008e-01  2.46982371e-01 -2.62032650e+00\n",
      "  6.03257510e-03 -4.15836003e-03 -4.59897405e+01  1.04978734e+01\n",
      "  1.18681857e+00  1.84082345e-01 -2.07281823e-01 -1.63475845e+00\n",
      "  4.12308435e-04  6.61384901e-03 -2.30438843e-02]\n",
      "['fixed acidity, citric acid', 'residual sugar', 'chlorides', 'free sulfur dioxide', 'total sulfur dioxide', 'density', 'pH', 'sulphates', 'alcohol', 'c2', 'pH2', 'sugar2', 'alcoholsugar']\n"
     ]
    }
   ],
   "source": [
    "print('Coefficients: \\n', model.coef_)\n",
    "print([\"fixed acidity, citric acid\", \"residual sugar\",\"chlorides\",\"free sulfur dioxide\",\"total sulfur dioxide\"\n",
    "       ,\"density\",\"pH\",\"sulphates\",\"alcohol\",\"c2\",\"pH2\",\"sugar2\",\"alcoholsugar\"])"
   ]
  },
  {
   "cell_type": "code",
   "execution_count": 68,
   "metadata": {},
   "outputs": [
    {
     "name": "stdout",
     "output_type": "stream",
     "text": [
      "                            OLS Regression Results                            \n",
      "==============================================================================\n",
      "Dep. Variable:                quality   R-squared:                       0.336\n",
      "Model:                            OLS   Adj. R-squared:                  0.330\n",
      "Method:                 Least Squares   F-statistic:                     53.46\n",
      "Date:                Thu, 29 Jul 2021   Prob (F-statistic):          4.25e-129\n",
      "Time:                        19:27:55   Log-Likelihood:                -1599.0\n",
      "No. Observations:                1599   AIC:                             3230.\n",
      "Df Residuals:                    1583   BIC:                             3316.\n",
      "Df Model:                          15                                         \n",
      "Covariance Type:            nonrobust                                         \n",
      "========================================================================================\n",
      "                           coef    std err          t      P>|t|      [0.025      0.975]\n",
      "----------------------------------------------------------------------------------------\n",
      "const                   31.1854     22.735      1.372      0.170     -13.409      75.780\n",
      "fixed acidity            0.0275      0.027      1.016      0.310      -0.026       0.081\n",
      "citric acid              0.6208      0.293      2.121      0.034       0.047       1.195\n",
      "residual sugar           0.2470      0.136      1.813      0.070      -0.020       0.514\n",
      "chlorides               -2.6203      0.430     -6.099      0.000      -3.463      -1.778\n",
      "free sulfur dioxide      0.0060      0.002      2.679      0.007       0.002       0.010\n",
      "total sulfur dioxide    -0.0042      0.001     -5.457      0.000      -0.006      -0.003\n",
      "density                -45.9897     23.108     -1.990      0.047     -91.316      -0.663\n",
      "pH                      10.4979      3.097      3.389      0.001       4.422      16.573\n",
      "sulphates                1.1868      0.116     10.207      0.000       0.959       1.415\n",
      "alcohol                  0.1841      0.275      0.669      0.504      -0.356       0.724\n",
      "c2                      -0.2073      0.461     -0.450      0.653      -1.111       0.696\n",
      "pH2                     -1.6348      0.461     -3.544      0.000      -2.540      -0.730\n",
      "sugar2                   0.0004      0.003      0.130      0.897      -0.006       0.007\n",
      "alcohol2                 0.0066      0.013      0.523      0.601      -0.018       0.031\n",
      "alchohol*sugar          -0.0230      0.011     -2.048      0.041      -0.045      -0.001\n",
      "==============================================================================\n",
      "Omnibus:                       30.900   Durbin-Watson:                   1.771\n",
      "Prob(Omnibus):                  0.000   Jarque-Bera (JB):               46.141\n",
      "Skew:                          -0.193   Prob(JB):                     9.56e-11\n",
      "Kurtosis:                       3.738   Cond. No.                     2.47e+05\n",
      "==============================================================================\n",
      "\n",
      "Notes:\n",
      "[1] Standard Errors assume that the covariance matrix of the errors is correctly specified.\n",
      "[2] The condition number is large, 2.47e+05. This might indicate that there are\n",
      "strong multicollinearity or other numerical problems.\n"
     ]
    }
   ],
   "source": [
    "#cholrides very bad -2.6 coeficiant\n",
    "\n",
    "X7 = sm.add_constant(X6)\n",
    "est = sm.OLS(Y, X7)\n",
    "est2 = est.fit()\n",
    "print(est2.summary())\n"
   ]
  },
  {
   "cell_type": "code",
   "execution_count": null,
   "metadata": {},
   "outputs": [],
   "source": []
  }
 ],
 "metadata": {
  "kernelspec": {
   "display_name": "Python 3",
   "language": "python",
   "name": "python3"
  },
  "language_info": {
   "codemirror_mode": {
    "name": "ipython",
    "version": 3
   },
   "file_extension": ".py",
   "mimetype": "text/x-python",
   "name": "python",
   "nbconvert_exporter": "python",
   "pygments_lexer": "ipython3",
   "version": "3.8.5"
  }
 },
 "nbformat": 4,
 "nbformat_minor": 4
}
